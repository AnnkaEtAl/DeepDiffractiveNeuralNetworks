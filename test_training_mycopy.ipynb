{
 "cells": [
  {
   "cell_type": "code",
   "execution_count": 23,
   "metadata": {},
   "outputs": [],
   "source": [
    "import tensorflow as tf\n",
    "import numpy as np\n",
    "import importlib\n",
    "import pandas as pd\n",
    "import time\n",
    "from tensorflow.keras.layers import Resizing, Input, Flatten # type: ignore\n",
    "import sys, os\n",
    "import matplotlib.pylab as plt\n",
    "\n",
    "sys.path.append(os.path.abspath(os.path.join(os.getcwd(), '..', '..', '..')))\n",
    "\n",
    "#import dnn_new # type: ignore\n",
    "import dnn as dnn"
   ]
  },
  {
   "cell_type": "markdown",
   "metadata": {},
   "source": [
    "#### 1.0 Which Propagation method to choose\n",
    "\n",
    "Here I test if each of the propagation methods behaves well in training. \n",
    "<br>More detailed information regarding each method can be found in ***PropagationMethods.ipynb***\n",
    "\n",
    "1. [DEPRECIATED] ***RS: via convolution (original code)*** ```method = 'RS_conv_old'```\n",
    "<br>The method is describes in PropagationMethods.ipynb, in short it is a direct convolution of impulse response of free space and inputs. \n",
    "However in this old version all convolutional Kernels are loaded at once. This occupies lots of RAM for the benefit of speed. \n",
    "Thus only very physically small systems can be treated correctly.\n",
    "<br>***There is no reason why we should use this method, it is in here for reference and because it was the original code.***\n",
    "    - slow\n",
    "    - mathematically equivalent to 3 \n",
    "    - super RAM inefficient, basically unusable for physically large systems\n",
    "\n",
    "2. [DEPRECIATED] ***RS: via convolution (iteratively)*** ```method = 'RS_conv'```\n",
    "<br> Mathematically just as the method before, however I compute each output pixel intensity one after another. I.E we save lots of RAM compared 1. However this will be slower.\n",
    "<br>***There is no reason why we should use this method, it is in here for reference and comparison to method 1.***\n",
    "The Accuracy and results should be an exact match.\n",
    "    - too slow to be useful\n",
    "    - mathematically equivalent to 3 \n",
    "\n",
    "3. ***RS: FFT-Based*** ```method = 'RS_FFT, mode = 0```\n",
    "<br>Instead of computing the convolution directly we fouriertransform impulse response and input and inverse fouriertransform them back. \n",
    "(This approach is based on the convolutional theorem). For implementation I followed: Rayleigh-Sommerfeld (RS) - Shen, F., and Wang, A. (2006). Fast-Fourier-transform based numerical integration method for the Rayleigh-Sommerfeld diffraction formula. Applied Optics, 45(6), 1102–1110. https://doi.org/10.1364/AO.45.001102.\n",
    "    - fast\n",
    "    - better for ***small*** D_object/z\n",
    "    - numerical accuracy improves for smaller delx, dely\n",
    "\n",
    "4. ***RS: FFT-Based with simson weighing*** ```method = ' 'RS_FFT, mode = 1```\n",
    "<br>As before but with simsons rule for integration, which shoudl improve accuracy.\n",
    "This should not impact computational speed or RAM consumption. Only accuracy (not training but propagation) so I will not include it into the testing.\n",
    "\n",
    "5. ***RS or Angular Spectrum method*** ```method = 'RS_AS, pad = 0'```\n",
    "<br>Here the impulse response uses the analytical solution for free space propagation in fourierspace. Versus fourier transforming it numerically as in 2-4.\n",
    "    - fastest (however actually it is similar to 3 & 4 if we adapt the padding), the speedup is solely due to fewer points in FFT (N vs 2N-1)\n",
    "      if we pad accordingly 3,4 is actually faster\n",
    "    - better for ***large*** D_object/z\n",
    "    - numerical accuracy improves with padding\n",
    "\n",
    "\n",
    "***VERDICT***\n",
    "<br>The best method for propagation depends on the application, i.e if we propagate large distances and have a small object (3,4) or only propagate a few lambda (5). \n",
    "The last method I would only recommend to use with padding.\n",
    "Possibly a convergence test is useful before training to see which method is more appropriate for the given case.\n",
    "All methods perform equivalent in training, be aware that differences are due to randomization in trainingsdata (shuffling)"
   ]
  },
  {
   "cell_type": "markdown",
   "metadata": {},
   "source": [
    "#### 1. Define a model"
   ]
  },
  {
   "cell_type": "code",
   "execution_count": null,
   "metadata": {},
   "outputs": [],
   "source": [
    "importlib.reload(dnn)\n",
    "from tensorflow.keras.models import Model # type: ignore\n",
    "\n",
    "#Here I define a little onn\n",
    "def get_model(x, y, z1, z2, lam, Dmeta , N_Neurons, detector):\n",
    "\n",
    "    # Get Detector\n",
    "    input_shape =  (28,28) # size of input images\n",
    "\n",
    "    # Size of computational domain\n",
    "    Nx, Ny = (len(x),len(y))\n",
    "\n",
    "    # Define the Model Layers\n",
    "    input_layer = Input(shape=input_shape)\n",
    "    out = tf.transpose(Resizing(Ny, Nx)(tf.transpose(input_layer)))\n",
    "    out = tf.cast(out, tf.complex64)\n",
    "    out = dnn.FreeSpacePropagation(x, y, z1, lam)(out) #x, y, lam, N_Neurons, Dx_meta, Dy_meta,\n",
    "    out = dnn.Meta(x, y, lam, N_Neurons, Dmeta, Dmeta)(out)\n",
    "    out = dnn.FreeSpacePropagation(x, y, z1, lam)(out)\n",
    "    out = dnn.Activation.SHG(out)\n",
    "    out = dnn.FreeSpacePropagation(x, y, z2, lam/2)(out)\n",
    "    output_layer = dnn.ToDetector(detector)(out)\n",
    "    \n",
    "    # Build Model\n",
    "    model = Model(inputs=input_layer, outputs=output_layer, name=\"model\")\n",
    "\n",
    "\n",
    "    # Optimize Parameters\n",
    "    learning_rate = 0.001\n",
    "    optimizer = tf.keras.optimizers.Adam(learning_rate)\n",
    "    metrics = [tf.keras.metrics.SparseCategoricalAccuracy()]\n",
    "    loss = tf.keras.losses.SparseCategoricalCrossentropy(from_logits = True)\n",
    "\n",
    "    # Compile Model\n",
    "    model.compile(\n",
    "        optimizer=optimizer,\n",
    "        loss=loss,\n",
    "        metrics=metrics)\n",
    "\n",
    "    return model"
   ]
  },
  {
   "cell_type": "code",
   "execution_count": 25,
   "metadata": {},
   "outputs": [
    {
     "name": "stdout",
     "output_type": "stream",
     "text": [
      "Number of sampling points in computational domain: 56\n"
     ]
    },
    {
     "data": {
      "image/png": "[encoded data removed]",
      "text/plain": [
       "<Figure size 640x480 with 1 Axes>"
      ]
     },
     "metadata": {},
     "output_type": "display_data"
    },
    {
     "name": "stdout",
     "output_type": "stream",
     "text": [
      "Model: \"model\"\n",
      "____________________________________________________________________________\n",
      " Layer (type)                Output Shape              Param #   Trainable  \n",
      "============================================================================\n",
      " input_2 (InputLayer)        [(None, 28, 28)]          0         Y          \n",
      "                                                                            \n",
      " tf.compat.v1.transpose_2 (  (28, 28, None)            0         Y          \n",
      " TFOpLambda)                                                                \n",
      "                                                                            \n",
      " resizing_3 (Resizing)       (56, 56, None)            0         Y          \n",
      "                                                                            \n",
      " tf.compat.v1.transpose_3 (  (None, 56, 56)            0         Y          \n",
      " TFOpLambda)                                                                \n",
      "                                                                            \n",
      " tf.cast_1 (TFOpLambda)      (None, 56, 56)            0         Y          \n",
      "                                                                            \n",
      " free_space_propagation_3 (  (None, 56, 56)            0         Y          \n",
      " FreeSpacePropagation)                                                      \n",
      "                                                                            \n",
      " free_space_propagation_4 (  (None, 56, 56)            0         Y          \n",
      " FreeSpacePropagation)                                                      \n",
      "                                                                            \n",
      " tf.math.square_1 (TFOpLamb  (None, 56, 56)            0         Y          \n",
      " da)                                                                        \n",
      "                                                                            \n",
      " free_space_propagation_5 (  (None, 56, 56)            0         Y          \n",
      " FreeSpacePropagation)                                                      \n",
      "                                                                            \n",
      " to_detector_1 (ToDetector)  (None, 10)                0         Y          \n",
      "                                                                            \n",
      "============================================================================\n",
      "Total params: 0 (0.00 Byte)\n",
      "Trainable params: 0 (0.00 Byte)\n",
      "Non-trainable params: 0 (0.00 Byte)\n",
      "____________________________________________________________________________\n"
     ]
    }
   ],
   "source": [
    "import importlib\n",
    "importlib.reload(dnn)\n",
    "\n",
    "### Parameter ###\n",
    "lam       = 1\n",
    "z1         = 30*lam  # distance in model between layers (value proofed to perform well in training)\n",
    "z2         = z1*3  # distance in model between layers (value proofed to perform well in training)\n",
    "N_Neurons = 28      # number of neurons in metasurface\n",
    "D         = 28*lam  # same size as metasurface\n",
    "Dmeta     = D       # lateral size of metasurface\n",
    "dx        = 0.5*lam # sampling\n",
    "# Here I set D/2 grid points, as D is in units of lambda this equates to a pixel size of 0.5\n",
    "x = y = np.linspace(-D/2, D/2, int(D/dx))\n",
    "print(\"Number of sampling points in computational domain:\",len(x))\n",
    "\n",
    "### Load Data and detector ###\n",
    "#   Loads Digit Dataset by default, resize the images inside the model in forward pass (trust me), else it will occupy all your memory\n",
    "x_train, y_train, x_test, y_test = dnn.loadData() # Trainings and Validation Data\n",
    "\n",
    "#Load detector and embedds it into compuatational space \n",
    "file     = os.path.join(os.getcwd(),'LeoProject/detector_masks',\"10_classes_standard.npy\")\n",
    "\n",
    "detector = dnn.loadDetector(D, D, x ,y, file = file)\n",
    "\n",
    "plt.figure()\n",
    "plt.imshow(np.sum(detector, axis = 0), cmap = \"gray\")\n",
    "plt.axis(\"off\")\n",
    "plt.title(\"Detector Plane\")\n",
    "plt.show()\n",
    "\n",
    "#Loading & Vizualization\n",
    "model = get_model(x, y, z1, z2, lam, Dmeta , N_Neurons, detector) #Load model\n",
    "Model.summary(model, expand_nested=True, show_trainable=True) #Display Model"
   ]
  },
  {
   "cell_type": "markdown",
   "metadata": {},
   "source": [
    "#### 2. Train model"
   ]
  },
  {
   "cell_type": "code",
   "execution_count": 22,
   "metadata": {},
   "outputs": [
    {
     "name": "stdout",
     "output_type": "stream",
     "text": [
      "56 56\n",
      "1723/7500 [=====>........................] - ETA: 1:23 - loss: 2.0293 - sparse_categorical_accuracy: 0.4502"
     ]
    },
    {
     "ename": "KeyboardInterrupt",
     "evalue": "",
     "output_type": "error",
     "traceback": [
      "\u001b[1;31m---------------------------------------------------------------------------\u001b[0m",
      "\u001b[1;31mKeyboardInterrupt\u001b[0m                         Traceback (most recent call last)",
      "\u001b[1;32m~\\AppData\\Local\\Temp\\20\\ipykernel_56384\\2690144874.py\u001b[0m in \u001b[0;36m?\u001b[1;34m()\u001b[0m\n\u001b[0;32m     19\u001b[0m \u001b[0mmodel\u001b[0m \u001b[1;33m=\u001b[0m \u001b[0mget_model\u001b[0m\u001b[1;33m(\u001b[0m\u001b[0mx\u001b[0m\u001b[1;33m,\u001b[0m \u001b[0my\u001b[0m\u001b[1;33m,\u001b[0m \u001b[0mz1\u001b[0m\u001b[1;33m,\u001b[0m \u001b[0mz2\u001b[0m\u001b[1;33m,\u001b[0m \u001b[0mlam\u001b[0m\u001b[1;33m,\u001b[0m \u001b[0mDmeta\u001b[0m \u001b[1;33m,\u001b[0m \u001b[0mN_Neurons\u001b[0m\u001b[1;33m,\u001b[0m \u001b[0mdetector\u001b[0m\u001b[1;33m)\u001b[0m \u001b[1;31m#Load model\u001b[0m\u001b[1;33m\u001b[0m\u001b[1;33m\u001b[0m\u001b[0m\n\u001b[0;32m     20\u001b[0m \u001b[1;33m\u001b[0m\u001b[0m\n\u001b[0;32m     21\u001b[0m \u001b[1;31m# Training\u001b[0m\u001b[1;33m\u001b[0m\u001b[1;33m\u001b[0m\u001b[0m\n\u001b[0;32m     22\u001b[0m \u001b[0mt\u001b[0m \u001b[1;33m=\u001b[0m \u001b[0mtime\u001b[0m\u001b[1;33m.\u001b[0m\u001b[0mtime\u001b[0m\u001b[1;33m(\u001b[0m\u001b[1;33m)\u001b[0m\u001b[1;33m\u001b[0m\u001b[1;33m\u001b[0m\u001b[0m\n\u001b[1;32m---> 23\u001b[1;33m history_01     = model.fit(x_train, y_train, # obviously you wood need more samples (just for testing)\n\u001b[0m\u001b[0;32m     24\u001b[0m     \u001b[0mbatch_size\u001b[0m \u001b[1;33m=\u001b[0m \u001b[0mbatch_size\u001b[0m\u001b[1;33m,\u001b[0m\u001b[1;33m\u001b[0m\u001b[1;33m\u001b[0m\u001b[0m\n\u001b[0;32m     25\u001b[0m     \u001b[0mshuffle\u001b[0m    \u001b[1;33m=\u001b[0m \u001b[1;32mTrue\u001b[0m\u001b[1;33m,\u001b[0m\u001b[1;33m\u001b[0m\u001b[1;33m\u001b[0m\u001b[0m\n\u001b[0;32m     26\u001b[0m     \u001b[0mverbose\u001b[0m    \u001b[1;33m=\u001b[0m \u001b[1;36m1\u001b[0m\u001b[1;33m,\u001b[0m\u001b[1;33m\u001b[0m\u001b[1;33m\u001b[0m\u001b[0m\n",
      "\u001b[1;32mc:\\ProgramData\\anaconda3\\envs\\tf_onn\\lib\\site-packages\\keras\\src\\utils\\traceback_utils.py\u001b[0m in \u001b[0;36m?\u001b[1;34m(*args, **kwargs)\u001b[0m\n\u001b[0;32m     68\u001b[0m             \u001b[1;31m# To get the full stack trace, call:\u001b[0m\u001b[1;33m\u001b[0m\u001b[1;33m\u001b[0m\u001b[0m\n\u001b[0;32m     69\u001b[0m             \u001b[1;31m# `tf.debugging.disable_traceback_filtering()`\u001b[0m\u001b[1;33m\u001b[0m\u001b[1;33m\u001b[0m\u001b[0m\n\u001b[0;32m     70\u001b[0m             \u001b[1;32mraise\u001b[0m \u001b[0me\u001b[0m\u001b[1;33m.\u001b[0m\u001b[0mwith_traceback\u001b[0m\u001b[1;33m(\u001b[0m\u001b[0mfiltered_tb\u001b[0m\u001b[1;33m)\u001b[0m \u001b[1;32mfrom\u001b[0m \u001b[1;32mNone\u001b[0m\u001b[1;33m\u001b[0m\u001b[1;33m\u001b[0m\u001b[0m\n\u001b[0;32m     71\u001b[0m         \u001b[1;32mfinally\u001b[0m\u001b[1;33m:\u001b[0m\u001b[1;33m\u001b[0m\u001b[1;33m\u001b[0m\u001b[0m\n\u001b[1;32m---> 72\u001b[1;33m             \u001b[1;32mdel\u001b[0m \u001b[0mfiltered_tb\u001b[0m\u001b[1;33m\u001b[0m\u001b[1;33m\u001b[0m\u001b[0m\n\u001b[0m",
      "\u001b[1;32mc:\\ProgramData\\anaconda3\\envs\\tf_onn\\lib\\site-packages\\keras\\src\\engine\\training.py\u001b[0m in \u001b[0;36m?\u001b[1;34m(self, x, y, batch_size, epochs, verbose, callbacks, validation_split, validation_data, shuffle, class_weight, sample_weight, initial_epoch, steps_per_epoch, validation_steps, validation_batch_size, validation_freq, max_queue_size, workers, use_multiprocessing)\u001b[0m\n\u001b[0;32m   1794\u001b[0m             \u001b[1;32mfor\u001b[0m \u001b[0mepoch\u001b[0m\u001b[1;33m,\u001b[0m \u001b[0miterator\u001b[0m \u001b[1;32min\u001b[0m \u001b[0mdata_handler\u001b[0m\u001b[1;33m.\u001b[0m\u001b[0menumerate_epochs\u001b[0m\u001b[1;33m(\u001b[0m\u001b[1;33m)\u001b[0m\u001b[1;33m:\u001b[0m\u001b[1;33m\u001b[0m\u001b[1;33m\u001b[0m\u001b[0m\n\u001b[0;32m   1795\u001b[0m                 \u001b[0mself\u001b[0m\u001b[1;33m.\u001b[0m\u001b[0mreset_metrics\u001b[0m\u001b[1;33m(\u001b[0m\u001b[1;33m)\u001b[0m\u001b[1;33m\u001b[0m\u001b[1;33m\u001b[0m\u001b[0m\n\u001b[0;32m   1796\u001b[0m                 \u001b[0mcallbacks\u001b[0m\u001b[1;33m.\u001b[0m\u001b[0mon_epoch_begin\u001b[0m\u001b[1;33m(\u001b[0m\u001b[0mepoch\u001b[0m\u001b[1;33m)\u001b[0m\u001b[1;33m\u001b[0m\u001b[1;33m\u001b[0m\u001b[0m\n\u001b[0;32m   1797\u001b[0m                 \u001b[1;32mwith\u001b[0m \u001b[0mdata_handler\u001b[0m\u001b[1;33m.\u001b[0m\u001b[0mcatch_stop_iteration\u001b[0m\u001b[1;33m(\u001b[0m\u001b[1;33m)\u001b[0m\u001b[1;33m:\u001b[0m\u001b[1;33m\u001b[0m\u001b[1;33m\u001b[0m\u001b[0m\n\u001b[1;32m-> 1798\u001b[1;33m                     \u001b[1;32mfor\u001b[0m \u001b[0mstep\u001b[0m \u001b[1;32min\u001b[0m \u001b[0mdata_handler\u001b[0m\u001b[1;33m.\u001b[0m\u001b[0msteps\u001b[0m\u001b[1;33m(\u001b[0m\u001b[1;33m)\u001b[0m\u001b[1;33m:\u001b[0m\u001b[1;33m\u001b[0m\u001b[1;33m\u001b[0m\u001b[0m\n\u001b[0m\u001b[0;32m   1799\u001b[0m                         with tf.profiler.experimental.Trace(\n\u001b[0;32m   1800\u001b[0m                             \u001b[1;34m\"train\"\u001b[0m\u001b[1;33m,\u001b[0m\u001b[1;33m\u001b[0m\u001b[1;33m\u001b[0m\u001b[0m\n\u001b[0;32m   1801\u001b[0m                             \u001b[0mepoch_num\u001b[0m\u001b[1;33m=\u001b[0m\u001b[0mepoch\u001b[0m\u001b[1;33m,\u001b[0m\u001b[1;33m\u001b[0m\u001b[1;33m\u001b[0m\u001b[0m\n",
      "\u001b[1;32mc:\\ProgramData\\anaconda3\\envs\\tf_onn\\lib\\site-packages\\keras\\src\\engine\\data_adapter.py\u001b[0m in \u001b[0;36m?\u001b[1;34m(self)\u001b[0m\n\u001b[0;32m   1407\u001b[0m             \u001b[1;32mor\u001b[0m \u001b[0mself\u001b[0m\u001b[1;33m.\u001b[0m\u001b[0m_current_step\u001b[0m \u001b[1;33m<\u001b[0m \u001b[0mself\u001b[0m\u001b[1;33m.\u001b[0m\u001b[0m_inferred_steps\u001b[0m\u001b[1;33m\u001b[0m\u001b[1;33m\u001b[0m\u001b[0m\n\u001b[0;32m   1408\u001b[0m         ):\n\u001b[0;32m   1409\u001b[0m             \u001b[1;32mif\u001b[0m \u001b[0mself\u001b[0m\u001b[1;33m.\u001b[0m\u001b[0m_insufficient_data\u001b[0m\u001b[1;33m:\u001b[0m  \u001b[1;31m# Set by `catch_stop_iteration`.\u001b[0m\u001b[1;33m\u001b[0m\u001b[1;33m\u001b[0m\u001b[0m\n\u001b[0;32m   1410\u001b[0m                 \u001b[1;32mbreak\u001b[0m\u001b[1;33m\u001b[0m\u001b[1;33m\u001b[0m\u001b[0m\n\u001b[1;32m-> 1411\u001b[1;33m             \u001b[0moriginal_spe\u001b[0m \u001b[1;33m=\u001b[0m \u001b[0mself\u001b[0m\u001b[1;33m.\u001b[0m\u001b[0m_steps_per_execution\u001b[0m\u001b[1;33m.\u001b[0m\u001b[0mnumpy\u001b[0m\u001b[1;33m(\u001b[0m\u001b[1;33m)\u001b[0m\u001b[1;33m.\u001b[0m\u001b[0mitem\u001b[0m\u001b[1;33m(\u001b[0m\u001b[1;33m)\u001b[0m\u001b[1;33m\u001b[0m\u001b[1;33m\u001b[0m\u001b[0m\n\u001b[0m\u001b[0;32m   1412\u001b[0m             can_run_full_execution = (\n\u001b[0;32m   1413\u001b[0m                 \u001b[0moriginal_spe\u001b[0m \u001b[1;33m==\u001b[0m \u001b[1;36m1\u001b[0m\u001b[1;33m\u001b[0m\u001b[1;33m\u001b[0m\u001b[0m\n\u001b[0;32m   1414\u001b[0m                 \u001b[1;32mor\u001b[0m \u001b[0mself\u001b[0m\u001b[1;33m.\u001b[0m\u001b[0m_inferred_steps\u001b[0m \u001b[1;32mis\u001b[0m \u001b[1;32mNone\u001b[0m\u001b[1;33m\u001b[0m\u001b[1;33m\u001b[0m\u001b[0m\n",
      "\u001b[1;32mc:\\ProgramData\\anaconda3\\envs\\tf_onn\\lib\\site-packages\\tensorflow\\python\\ops\\resource_variable_ops.py\u001b[0m in \u001b[0;36m?\u001b[1;34m(self)\u001b[0m\n\u001b[0;32m    687\u001b[0m   \u001b[1;32mdef\u001b[0m \u001b[0mnumpy\u001b[0m\u001b[1;33m(\u001b[0m\u001b[0mself\u001b[0m\u001b[1;33m)\u001b[0m\u001b[1;33m:\u001b[0m\u001b[1;33m\u001b[0m\u001b[1;33m\u001b[0m\u001b[0m\n\u001b[0;32m    688\u001b[0m     \u001b[1;32mif\u001b[0m \u001b[0mcontext\u001b[0m\u001b[1;33m.\u001b[0m\u001b[0mexecuting_eagerly\u001b[0m\u001b[1;33m(\u001b[0m\u001b[1;33m)\u001b[0m\u001b[1;33m:\u001b[0m\u001b[1;33m\u001b[0m\u001b[1;33m\u001b[0m\u001b[0m\n\u001b[1;32m--> 689\u001b[1;33m       \u001b[1;32mreturn\u001b[0m \u001b[0mself\u001b[0m\u001b[1;33m.\u001b[0m\u001b[0mread_value\u001b[0m\u001b[1;33m(\u001b[0m\u001b[1;33m)\u001b[0m\u001b[1;33m.\u001b[0m\u001b[0mnumpy\u001b[0m\u001b[1;33m(\u001b[0m\u001b[1;33m)\u001b[0m\u001b[1;33m\u001b[0m\u001b[1;33m\u001b[0m\u001b[0m\n\u001b[0m\u001b[0;32m    690\u001b[0m     raise NotImplementedError(\n\u001b[0;32m    691\u001b[0m         \"numpy() is only available when eager execution is enabled.\")\n",
      "\u001b[1;32mc:\\ProgramData\\anaconda3\\envs\\tf_onn\\lib\\site-packages\\tensorflow\\python\\ops\\resource_variable_ops.py\u001b[0m in \u001b[0;36m?\u001b[1;34m(self)\u001b[0m\n\u001b[0;32m    838\u001b[0m     \u001b[1;32mwith\u001b[0m \u001b[0mops\u001b[0m\u001b[1;33m.\u001b[0m\u001b[0mname_scope\u001b[0m\u001b[1;33m(\u001b[0m\u001b[1;34m\"Read\"\u001b[0m\u001b[1;33m)\u001b[0m\u001b[1;33m:\u001b[0m\u001b[1;33m\u001b[0m\u001b[1;33m\u001b[0m\u001b[0m\n\u001b[0;32m    839\u001b[0m       \u001b[0mvalue\u001b[0m \u001b[1;33m=\u001b[0m \u001b[0mself\u001b[0m\u001b[1;33m.\u001b[0m\u001b[0m_read_variable_op\u001b[0m\u001b[1;33m(\u001b[0m\u001b[1;33m)\u001b[0m\u001b[1;33m\u001b[0m\u001b[1;33m\u001b[0m\u001b[0m\n\u001b[0;32m    840\u001b[0m     \u001b[1;31m# Return an identity so it can get placed on whatever device the context\u001b[0m\u001b[1;33m\u001b[0m\u001b[1;33m\u001b[0m\u001b[0m\n\u001b[0;32m    841\u001b[0m     \u001b[1;31m# specifies instead of the device where the variable is.\u001b[0m\u001b[1;33m\u001b[0m\u001b[1;33m\u001b[0m\u001b[0m\n\u001b[1;32m--> 842\u001b[1;33m     \u001b[1;32mreturn\u001b[0m \u001b[0marray_ops\u001b[0m\u001b[1;33m.\u001b[0m\u001b[0midentity\u001b[0m\u001b[1;33m(\u001b[0m\u001b[0mvalue\u001b[0m\u001b[1;33m)\u001b[0m\u001b[1;33m\u001b[0m\u001b[1;33m\u001b[0m\u001b[0m\n\u001b[0m",
      "\u001b[1;32mc:\\ProgramData\\anaconda3\\envs\\tf_onn\\lib\\site-packages\\tensorflow\\python\\ops\\weak_tensor_ops.py\u001b[0m in \u001b[0;36m?\u001b[1;34m(*args, **kwargs)\u001b[0m\n\u001b[0;32m     86\u001b[0m   \u001b[1;32mdef\u001b[0m \u001b[0mwrapper\u001b[0m\u001b[1;33m(\u001b[0m\u001b[1;33m*\u001b[0m\u001b[0margs\u001b[0m\u001b[1;33m,\u001b[0m \u001b[1;33m**\u001b[0m\u001b[0mkwargs\u001b[0m\u001b[1;33m)\u001b[0m\u001b[1;33m:\u001b[0m\u001b[1;33m\u001b[0m\u001b[1;33m\u001b[0m\u001b[0m\n\u001b[0;32m     87\u001b[0m     \u001b[1;32mif\u001b[0m \u001b[1;32mnot\u001b[0m \u001b[0mops\u001b[0m\u001b[1;33m.\u001b[0m\u001b[0mis_auto_dtype_conversion_enabled\u001b[0m\u001b[1;33m(\u001b[0m\u001b[1;33m)\u001b[0m\u001b[1;33m:\u001b[0m\u001b[1;33m\u001b[0m\u001b[1;33m\u001b[0m\u001b[0m\n\u001b[1;32m---> 88\u001b[1;33m       \u001b[1;32mreturn\u001b[0m \u001b[0mop\u001b[0m\u001b[1;33m(\u001b[0m\u001b[1;33m*\u001b[0m\u001b[0margs\u001b[0m\u001b[1;33m,\u001b[0m \u001b[1;33m**\u001b[0m\u001b[0mkwargs\u001b[0m\u001b[1;33m)\u001b[0m\u001b[1;33m\u001b[0m\u001b[1;33m\u001b[0m\u001b[0m\n\u001b[0m\u001b[0;32m     89\u001b[0m     \u001b[0mbound_arguments\u001b[0m \u001b[1;33m=\u001b[0m \u001b[0msignature\u001b[0m\u001b[1;33m.\u001b[0m\u001b[0mbind\u001b[0m\u001b[1;33m(\u001b[0m\u001b[1;33m*\u001b[0m\u001b[0margs\u001b[0m\u001b[1;33m,\u001b[0m \u001b[1;33m**\u001b[0m\u001b[0mkwargs\u001b[0m\u001b[1;33m)\u001b[0m\u001b[1;33m\u001b[0m\u001b[1;33m\u001b[0m\u001b[0m\n\u001b[0;32m     90\u001b[0m     \u001b[0mbound_arguments\u001b[0m\u001b[1;33m.\u001b[0m\u001b[0mapply_defaults\u001b[0m\u001b[1;33m(\u001b[0m\u001b[1;33m)\u001b[0m\u001b[1;33m\u001b[0m\u001b[1;33m\u001b[0m\u001b[0m\n\u001b[0;32m     91\u001b[0m     \u001b[0mbound_kwargs\u001b[0m \u001b[1;33m=\u001b[0m \u001b[0mbound_arguments\u001b[0m\u001b[1;33m.\u001b[0m\u001b[0marguments\u001b[0m\u001b[1;33m\u001b[0m\u001b[1;33m\u001b[0m\u001b[0m\n",
      "\u001b[1;32mc:\\ProgramData\\anaconda3\\envs\\tf_onn\\lib\\site-packages\\tensorflow\\python\\util\\traceback_utils.py\u001b[0m in \u001b[0;36m?\u001b[1;34m(*args, **kwargs)\u001b[0m\n\u001b[0;32m    151\u001b[0m     \u001b[1;32mexcept\u001b[0m \u001b[0mException\u001b[0m \u001b[1;32mas\u001b[0m \u001b[0me\u001b[0m\u001b[1;33m:\u001b[0m\u001b[1;33m\u001b[0m\u001b[1;33m\u001b[0m\u001b[0m\n\u001b[0;32m    152\u001b[0m       \u001b[0mfiltered_tb\u001b[0m \u001b[1;33m=\u001b[0m \u001b[0m_process_traceback_frames\u001b[0m\u001b[1;33m(\u001b[0m\u001b[0me\u001b[0m\u001b[1;33m.\u001b[0m\u001b[0m__traceback__\u001b[0m\u001b[1;33m)\u001b[0m\u001b[1;33m\u001b[0m\u001b[1;33m\u001b[0m\u001b[0m\n\u001b[0;32m    153\u001b[0m       \u001b[1;32mraise\u001b[0m \u001b[0me\u001b[0m\u001b[1;33m.\u001b[0m\u001b[0mwith_traceback\u001b[0m\u001b[1;33m(\u001b[0m\u001b[0mfiltered_tb\u001b[0m\u001b[1;33m)\u001b[0m \u001b[1;32mfrom\u001b[0m \u001b[1;32mNone\u001b[0m\u001b[1;33m\u001b[0m\u001b[1;33m\u001b[0m\u001b[0m\n\u001b[0;32m    154\u001b[0m     \u001b[1;32mfinally\u001b[0m\u001b[1;33m:\u001b[0m\u001b[1;33m\u001b[0m\u001b[1;33m\u001b[0m\u001b[0m\n\u001b[1;32m--> 155\u001b[1;33m       \u001b[1;32mdel\u001b[0m \u001b[0mfiltered_tb\u001b[0m\u001b[1;33m\u001b[0m\u001b[1;33m\u001b[0m\u001b[0m\n\u001b[0m",
      "\u001b[1;32mc:\\ProgramData\\anaconda3\\envs\\tf_onn\\lib\\site-packages\\tensorflow\\python\\util\\dispatch.py\u001b[0m in \u001b[0;36m?\u001b[1;34m(*args, **kwargs)\u001b[0m\n\u001b[0;32m   1257\u001b[0m \u001b[1;33m\u001b[0m\u001b[0m\n\u001b[0;32m   1258\u001b[0m       \u001b[1;31m# Fallback dispatch system (dispatch v1):\u001b[0m\u001b[1;33m\u001b[0m\u001b[1;33m\u001b[0m\u001b[0m\n\u001b[0;32m   1259\u001b[0m       \u001b[1;32mtry\u001b[0m\u001b[1;33m:\u001b[0m\u001b[1;33m\u001b[0m\u001b[1;33m\u001b[0m\u001b[0m\n\u001b[0;32m   1260\u001b[0m         \u001b[1;32mreturn\u001b[0m \u001b[0mdispatch_target\u001b[0m\u001b[1;33m(\u001b[0m\u001b[1;33m*\u001b[0m\u001b[0margs\u001b[0m\u001b[1;33m,\u001b[0m \u001b[1;33m**\u001b[0m\u001b[0mkwargs\u001b[0m\u001b[1;33m)\u001b[0m\u001b[1;33m\u001b[0m\u001b[1;33m\u001b[0m\u001b[0m\n\u001b[1;32m-> 1261\u001b[1;33m       \u001b[1;32mexcept\u001b[0m \u001b[1;33m(\u001b[0m\u001b[0mTypeError\u001b[0m\u001b[1;33m,\u001b[0m \u001b[0mValueError\u001b[0m\u001b[1;33m)\u001b[0m\u001b[1;33m:\u001b[0m\u001b[1;33m\u001b[0m\u001b[1;33m\u001b[0m\u001b[0m\n\u001b[0m\u001b[0;32m   1262\u001b[0m         \u001b[1;31m# Note: convert_to_eager_tensor currently raises a ValueError, not a\u001b[0m\u001b[1;33m\u001b[0m\u001b[1;33m\u001b[0m\u001b[0m\n\u001b[0;32m   1263\u001b[0m         \u001b[1;31m# TypeError, when given unexpected types.  So we need to catch both.\u001b[0m\u001b[1;33m\u001b[0m\u001b[1;33m\u001b[0m\u001b[0m\n\u001b[0;32m   1264\u001b[0m         \u001b[0mresult\u001b[0m \u001b[1;33m=\u001b[0m \u001b[0mdispatch\u001b[0m\u001b[1;33m(\u001b[0m\u001b[0mop_dispatch_handler\u001b[0m\u001b[1;33m,\u001b[0m \u001b[0margs\u001b[0m\u001b[1;33m,\u001b[0m \u001b[0mkwargs\u001b[0m\u001b[1;33m)\u001b[0m\u001b[1;33m\u001b[0m\u001b[1;33m\u001b[0m\u001b[0m\n",
      "\u001b[1;32mc:\\ProgramData\\anaconda3\\envs\\tf_onn\\lib\\site-packages\\tensorflow\\python\\ops\\array_ops.py\u001b[0m in \u001b[0;36m?\u001b[1;34m(input, name)\u001b[0m\n\u001b[0;32m    308\u001b[0m   \u001b[1;32mif\u001b[0m \u001b[0mcontext\u001b[0m\u001b[1;33m.\u001b[0m\u001b[0mexecuting_eagerly\u001b[0m\u001b[1;33m(\u001b[0m\u001b[1;33m)\u001b[0m \u001b[1;32mand\u001b[0m \u001b[1;32mnot\u001b[0m \u001b[0mhasattr\u001b[0m\u001b[1;33m(\u001b[0m\u001b[0minput\u001b[0m\u001b[1;33m,\u001b[0m \u001b[1;34m\"graph\"\u001b[0m\u001b[1;33m)\u001b[0m\u001b[1;33m:\u001b[0m\u001b[1;33m\u001b[0m\u001b[1;33m\u001b[0m\u001b[0m\n\u001b[0;32m    309\u001b[0m     \u001b[1;31m# Make sure we get an input with handle data attached from resource\u001b[0m\u001b[1;33m\u001b[0m\u001b[1;33m\u001b[0m\u001b[0m\n\u001b[0;32m    310\u001b[0m     \u001b[1;31m# variables. Variables have correct handle data when graph building.\u001b[0m\u001b[1;33m\u001b[0m\u001b[1;33m\u001b[0m\u001b[0m\n\u001b[0;32m    311\u001b[0m     \u001b[0minput\u001b[0m \u001b[1;33m=\u001b[0m \u001b[0mops\u001b[0m\u001b[1;33m.\u001b[0m\u001b[0mconvert_to_tensor\u001b[0m\u001b[1;33m(\u001b[0m\u001b[0minput\u001b[0m\u001b[1;33m)\u001b[0m\u001b[1;33m\u001b[0m\u001b[1;33m\u001b[0m\u001b[0m\n\u001b[1;32m--> 312\u001b[1;33m   \u001b[0mret\u001b[0m \u001b[1;33m=\u001b[0m \u001b[0mgen_array_ops\u001b[0m\u001b[1;33m.\u001b[0m\u001b[0midentity\u001b[0m\u001b[1;33m(\u001b[0m\u001b[0minput\u001b[0m\u001b[1;33m,\u001b[0m \u001b[0mname\u001b[0m\u001b[1;33m=\u001b[0m\u001b[0mname\u001b[0m\u001b[1;33m)\u001b[0m\u001b[1;33m\u001b[0m\u001b[1;33m\u001b[0m\u001b[0m\n\u001b[0m\u001b[0;32m    313\u001b[0m   \u001b[1;31m# Propagate handle data for happier shape inference for resource variables.\u001b[0m\u001b[1;33m\u001b[0m\u001b[1;33m\u001b[0m\u001b[0m\n\u001b[0;32m    314\u001b[0m   \u001b[1;32mif\u001b[0m \u001b[0mhasattr\u001b[0m\u001b[1;33m(\u001b[0m\u001b[0minput\u001b[0m\u001b[1;33m,\u001b[0m \u001b[1;34m\"_handle_data\"\u001b[0m\u001b[1;33m)\u001b[0m\u001b[1;33m:\u001b[0m\u001b[1;33m\u001b[0m\u001b[1;33m\u001b[0m\u001b[0m\n\u001b[0;32m    315\u001b[0m     \u001b[0mret\u001b[0m\u001b[1;33m.\u001b[0m\u001b[0m_handle_data\u001b[0m \u001b[1;33m=\u001b[0m \u001b[0minput\u001b[0m\u001b[1;33m.\u001b[0m\u001b[0m_handle_data\u001b[0m  \u001b[1;31m# pylint: disable=protected-access\u001b[0m\u001b[1;33m\u001b[0m\u001b[1;33m\u001b[0m\u001b[0m\n",
      "\u001b[1;32mc:\\ProgramData\\anaconda3\\envs\\tf_onn\\lib\\site-packages\\tensorflow\\python\\ops\\gen_array_ops.py\u001b[0m in \u001b[0;36m?\u001b[1;34m(input, name)\u001b[0m\n\u001b[0;32m   4185\u001b[0m         _ctx, \"Identity\", name, input)\n\u001b[0;32m   4186\u001b[0m       \u001b[1;32mreturn\u001b[0m \u001b[0m_result\u001b[0m\u001b[1;33m\u001b[0m\u001b[1;33m\u001b[0m\u001b[0m\n\u001b[0;32m   4187\u001b[0m     \u001b[1;32mexcept\u001b[0m \u001b[0m_core\u001b[0m\u001b[1;33m.\u001b[0m\u001b[0m_NotOkStatusException\u001b[0m \u001b[1;32mas\u001b[0m \u001b[0me\u001b[0m\u001b[1;33m:\u001b[0m\u001b[1;33m\u001b[0m\u001b[1;33m\u001b[0m\u001b[0m\n\u001b[0;32m   4188\u001b[0m       \u001b[0m_ops\u001b[0m\u001b[1;33m.\u001b[0m\u001b[0mraise_from_not_ok_status\u001b[0m\u001b[1;33m(\u001b[0m\u001b[0me\u001b[0m\u001b[1;33m,\u001b[0m \u001b[0mname\u001b[0m\u001b[1;33m)\u001b[0m\u001b[1;33m\u001b[0m\u001b[1;33m\u001b[0m\u001b[0m\n\u001b[1;32m-> 4189\u001b[1;33m     \u001b[1;32mexcept\u001b[0m \u001b[0m_core\u001b[0m\u001b[1;33m.\u001b[0m\u001b[0m_FallbackException\u001b[0m\u001b[1;33m:\u001b[0m\u001b[1;33m\u001b[0m\u001b[1;33m\u001b[0m\u001b[0m\n\u001b[0m\u001b[0;32m   4190\u001b[0m       \u001b[1;32mpass\u001b[0m\u001b[1;33m\u001b[0m\u001b[1;33m\u001b[0m\u001b[0m\n\u001b[0;32m   4191\u001b[0m     \u001b[1;32mtry\u001b[0m\u001b[1;33m:\u001b[0m\u001b[1;33m\u001b[0m\u001b[1;33m\u001b[0m\u001b[0m\n\u001b[0;32m   4192\u001b[0m       return identity_eager_fallback(\n",
      "\u001b[1;31mKeyboardInterrupt\u001b[0m: "
     ]
    }
   ],
   "source": [
    "import time\n",
    "importlib.reload(dnn)\n",
    "tf.keras.backend.clear_session()\n",
    "\n",
    "### Train model ###\n",
    "\n",
    "# Trainigs Parameter\n",
    "batch_size = 8\n",
    "epochs     = 1\n",
    "\n",
    "# Note that AS is not padded so it is expected to be highly inaccurate\n",
    "# If your metasurfaces are not spaced by large distances AS performs better\n",
    "# Note that closely spaced metasurfaces are usually not so great for the DNN performance \n",
    "# see: https://opg.optica.org/prj/fulltext.cfm?uri=prj-10-11-2667&id=513693: \n",
    "# Minjia Zheng, Lei Shi, and Jian Zi, \"Optimize performance of a diffractive neural network by controlling the Fresnel number,\" Photon. Res. 10, 2667-2676 (2022)\n",
    "\n",
    "#Loading & Vizualization\n",
    "tf.keras.backend.clear_session()\n",
    "model = get_model(x, y, z1, z2, lam, Dmeta , N_Neurons, detector) #Load model\n",
    "\n",
    "# Training\n",
    "t = time.time()\n",
    "history_01     = model.fit(x_train, y_train, # obviously you wood need more samples (just for testing)\n",
    "    batch_size = batch_size,\n",
    "    shuffle    = True,\n",
    "    verbose    = 1,\n",
    "    epochs     = epochs,\n",
    "    callbacks  = tf.keras.callbacks.EarlyStopping(patience=2),\n",
    "    validation_data = (x_test, y_test))\n",
    "print(\"The training required:\\t\", time.time()-t, \"s\")"
   ]
  },
  {
   "cell_type": "code",
   "execution_count": 14,
   "metadata": {},
   "outputs": [
    {
     "name": "stdout",
     "output_type": "stream",
     "text": [
      "(2, 28, 28)\n"
     ]
    },
    {
     "data": {
      "text/plain": [
       "<matplotlib.colorbar.Colorbar at 0x23f3d1ce170>"
      ]
     },
     "execution_count": 14,
     "metadata": {},
     "output_type": "execute_result"
    },
    {
     "data": {
      "image/png": "[encoded data removed]",
      "text/plain": [
       "<Figure size 640x480 with 2 Axes>"
      ]
     },
     "metadata": {},
     "output_type": "display_data"
    }
   ],
   "source": [
    "w = model.get_weights()\n",
    "print(np.shape(w))\n",
    "\n",
    "plt.imshow(np.array(w[0]))\n",
    "plt.colorbar()"
   ]
  },
  {
   "cell_type": "markdown",
   "metadata": {},
   "source": [
    "#### 3. Transfer Weights to new Models\n",
    "\n",
    "Often You might train a model and save the weights. Here I show how I can set these weights to an untrained model.\n",
    "\n",
    "You can continue training for that model, test how this model performs for certain classes, vizualize it or change parameters within the new model slightly wrt. \n",
    "to the old one to test robustness to inaccuracies in propagation distance, pixel size, phase shifts... whatever you can think of actually.\n"
   ]
  },
  {
   "cell_type": "code",
   "execution_count": 7,
   "metadata": {},
   "outputs": [
    {
     "ename": "NameError",
     "evalue": "name 'z' is not defined",
     "output_type": "error",
     "traceback": [
      "\u001b[1;31m---------------------------------------------------------------------------\u001b[0m",
      "\u001b[1;31mNameError\u001b[0m                                 Traceback (most recent call last)",
      "Cell \u001b[1;32mIn[7], line 2\u001b[0m\n\u001b[0;32m      1\u001b[0m \u001b[38;5;66;03m#Load a new Model\u001b[39;00m\n\u001b[1;32m----> 2\u001b[0m z_new \u001b[38;5;241m=\u001b[39m \u001b[43mz\u001b[49m \u001b[38;5;241m+\u001b[39m \u001b[38;5;241m0.5\u001b[39m \u001b[38;5;66;03m#inaccuracy in propagation distance (at every layer of the model)\u001b[39;00m\n\u001b[0;32m      3\u001b[0m transfer_model \u001b[38;5;241m=\u001b[39m get_model(x, y, z_new, lam, Dmeta , N_Neurons, detector) \n\u001b[0;32m      5\u001b[0m \u001b[38;5;28mprint\u001b[39m(\u001b[38;5;124m\"\u001b[39m\u001b[38;5;124mValidation Loss/Accuracy before weights transfer\u001b[39m\u001b[38;5;124m\"\u001b[39m)\n",
      "\u001b[1;31mNameError\u001b[0m: name 'z' is not defined"
     ]
    }
   ],
   "source": [
    "#Load a new Model\n",
    "z_new = z + 0.5 #inaccuracy in propagation distance (at every layer of the model)\n",
    "transfer_model = get_model(x, y, z_new, lam, Dmeta , N_Neurons, detector) \n",
    "\n",
    "print(\"Validation Loss/Accuracy before weights transfer\")\n",
    "transfer_model.evaluate(x_test[:1000], y_test[:1000], batch_size=batch_size)\n",
    "\n",
    "#Tranfer Weights\n",
    "w = model.get_weights()\n",
    "transfer_model.set_weights(w)\n",
    "    \n",
    "#Test accuracy again\n",
    "print(\"Validation Loss/Accuracy after transfer\")\n",
    "transfer_model.evaluate(x_test[:1000], y_test[:1000], batch_size=batch_size)"
   ]
  },
  {
   "cell_type": "markdown",
   "metadata": {},
   "source": [
    "#### 4. Visualize Layer outputs\n",
    "Want to have some visual representation of your model?\n",
    "Most importantly proabably the detection Layer.\n",
    "Lets have a look!"
   ]
  },
  {
   "cell_type": "code",
   "execution_count": 19,
   "metadata": {},
   "outputs": [
    {
     "name": "stdout",
     "output_type": "stream",
     "text": [
      "WARNING:tensorflow:5 out of the last 5 calls to <function Model.make_predict_function.<locals>.predict_function at 0x0000023F81057AC0> triggered tf.function retracing. Tracing is expensive and the excessive number of tracings could be due to (1) creating @tf.function repeatedly in a loop, (2) passing tensors with different shapes, (3) passing Python objects instead of tensors. For (1), please define your @tf.function outside of the loop. For (2), @tf.function has reduce_retracing=True option that can avoid unnecessary retracing. For (3), please refer to https://www.tensorflow.org/guide/function#controlling_retracing and https://www.tensorflow.org/api_docs/python/tf/function for  more details.\n",
      "1/1 [==============================] - 0s 399ms/step\n"
     ]
    },
    {
     "data": {
      "image/png": "[encoded data removed]",
      "text/plain": [
       "<Figure size 1500x500 with 3 Axes>"
      ]
     },
     "metadata": {},
     "output_type": "display_data"
    }
   ],
   "source": [
    "# Pick sample\n",
    "# Dimensions are expanded because the mdoel expects batches (multiple input images)\n",
    "sample = np.expand_dims(x_train[1], axis = 0)\n",
    "\n",
    "# Get Field at detector\n",
    "layer_output       = model.layers[len(model.layers)-2].output \n",
    "intermediate_model = Model(inputs=model.input, outputs=layer_output)  \n",
    "out                = intermediate_model.predict(sample)\n",
    "I_detection_plane  = np.abs(np.squeeze(out))**2\n",
    "I_detection_plane  /=np.max(I_detection_plane)\n",
    "\n",
    "# Detection mask\n",
    "mask = np.sum(detector, axis=0)\n",
    "\n",
    "# Apply mask: set masked regions to NaN\n",
    "masked_intensity = I_detection_plane.copy()\n",
    "masked_intensity[mask == 0] = np.nan  # Set regions where mask is zero to NaN\n",
    "\n",
    "# Define colormap with NaN values appearing as black\n",
    "cmap = plt.cm.viridis\n",
    "cmap.set_bad(color=\"black\")\n",
    "\n",
    "# Plot outputs in a 1x3 layout\n",
    "fig, axes = plt.subplots(1, 3, figsize=(15, 5))\n",
    "\n",
    "# Input image\n",
    "axes[0].imshow(np.squeeze(sample))\n",
    "axes[0].axis(\"off\")\n",
    "axes[0].set_title(\"Input Image\")\n",
    "\n",
    "# Normalized intensity at detection plane\n",
    "im1 = axes[1].imshow(I_detection_plane)\n",
    "axes[1].axis(\"off\")\n",
    "axes[1].set_title(\"Normalized Intensity at Detection Plane\")\n",
    "\n",
    "\n",
    "# Masked intensity with NaN regions as black\n",
    "im2 = axes[2].imshow(masked_intensity)\n",
    "axes[2].axis(\"off\")\n",
    "axes[2].set_title(\"Masked Intensity (Black Mask)\")\n",
    "\n",
    "\n",
    "plt.tight_layout()\n",
    "plt.show()"
   ]
  },
  {
   "cell_type": "markdown",
   "metadata": {},
   "source": [
    "#### 5 Help yourself and read the docs\n",
    "\n",
    "I tried to document my code via docstrings. This is how you can access information without openening the dnn File."
   ]
  },
  {
   "cell_type": "code",
   "execution_count": 76,
   "metadata": {},
   "outputs": [
    {
     "name": "stdout",
     "output_type": "stream",
     "text": [
      "List all classes in module\n",
      "\t <class 'dnn.Activation'>\n",
      "\t <class 'dnn.FreeSpacePropagation'>\n",
      "\t <class 'dnn.Lens'>\n",
      "\t <class 'dnn.Meta'>\n",
      "\t <class 'dnn.ToDetector'>\n",
      "\t <class 'dnn.embedd2CP'>\n",
      "\t <class 'dnn.opticalFFT'>\n",
      "\n",
      "Check a specific class within module\n",
      "\n",
      "    A class to compute the free space propagation of light.\n",
      "    Attributes:\n",
      "        lam(float): wavelength\n",
      "        x (float[Nx]): meshing of computational domain in x direction\n",
      "        y (float[Ny]): meshing of computational domain in y direction\n",
      "        z (float): propagation distance\n",
      "        Nx (int) : number of meshing points in x-direction\n",
      "        Ny (int) : number of meshing points in y-direction\n",
      "        method (string): 'RS_FFT', 'RS_Conv', 'RS_AS', RS_FFT_ver2', RS_conv_old'\n",
      "        mode : True if you want to apply simson rule to 'RS_FFT' method. False by default.\n",
      "        pad  : Padding applied in 'RS_AS' method \n",
      "\n",
      "    Arguments:\n",
      "        lam(float): wavelength\n",
      "        x (float[Nx]): meshing of computational domain in x direction\n",
      "        y (float[Ny]): meshing of computational domain in y direction\n",
      "        z (float): propagation distance\n",
      "        method (string): 'RS_FFT', 'RS_Conv', 'RS_AS', RS_FFT_ver2', RS_conv_old'\n",
      "        mode : True if you want to apply simson rule to 'RS_FFT' method. False by default.\n",
      "        pad  : Padding applied in 'RS_AS' method \n",
      "\n",
      "    Methods:\n",
      "        call:   takes scalar input field of the form tensor(complex[batch, Ny, Nx] \n",
      "                and returns propagated field tensor(complex[batch, Ny, Nx])\n",
      "\n",
      "    \n"
     ]
    }
   ],
   "source": [
    "import  inspect\n",
    "\n",
    "print(\"List all classes in module\")\n",
    "for name, obj in inspect.getmembers(dnn, inspect.isclass):  \n",
    "    if obj.__module__ == \"dnn\":\n",
    "        print(\"\\t\",obj)\n",
    "\n",
    "print(\"\\nCheck a specific class within module\")\n",
    "print(dnn.FreeSpacePropagation.__doc__)"
   ]
  }
 ],
 "metadata": {
  "kernelspec": {
   "display_name": "tf_onn",
   "language": "python",
   "name": "python3"
  },
  "language_info": {
   "codemirror_mode": {
    "name": "ipython",
    "version": 3
   },
   "file_extension": ".py",
   "mimetype": "text/x-python",
   "name": "python",
   "nbconvert_exporter": "python",
   "pygments_lexer": "ipython3",
   "version": "3.10.14"
  }
 },
 "nbformat": 4,
 "nbformat_minor": 4
}
